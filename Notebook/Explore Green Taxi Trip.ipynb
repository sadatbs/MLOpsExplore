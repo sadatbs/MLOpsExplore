{
 "cells": [
  {
   "cell_type": "code",
   "execution_count": 1,
   "id": "8a316697",
   "metadata": {},
   "outputs": [
    {
     "name": "stdout",
     "output_type": "stream",
     "text": [
      "Python 3.9.19\n"
     ]
    }
   ],
   "source": [
    "!python -V"
   ]
  },
  {
   "cell_type": "code",
   "execution_count": 10,
   "id": "7f7127e3",
   "metadata": {},
   "outputs": [],
   "source": [
    "import pandas as pd\n",
    "import seaborn as sns\n",
    "import matplotlib.pyplot as plt\n",
    "from sklearn.feature_extraction import DictVectorizer\n",
    "from sklearn.linear_model import LinearRegression\n",
    "from sklearn.linear_model import Lasso\n",
    "from sklearn.linear_model import Ridge\n",
    "from sklearn.metrics import mean_squared_error\n",
    "import pickle"
   ]
  },
  {
   "cell_type": "code",
   "execution_count": 24,
   "id": "36c434ca",
   "metadata": {},
   "outputs": [
    {
     "data": {
      "text/plain": [
       "<Experiment: artifact_location='/workspaces/MLOpsExplore/Notebook/mlruns/2', creation_time=1722177205773, experiment_id='2', last_update_time=1722177205773, lifecycle_stage='active', name='nyc-green-taxi-trip-explore', tags={}>"
      ]
     },
     "execution_count": 24,
     "metadata": {},
     "output_type": "execute_result"
    }
   ],
   "source": [
    "import mlflow\n",
    "\n",
    "mlflow.set_tracking_uri(\"sqlite:///../mlruns.db\")\n",
    "mlflow.set_experiment(\"nyc-green-taxi-trip-explore\")"
   ]
  },
  {
   "cell_type": "code",
   "execution_count": 18,
   "id": "0f3a6e80",
   "metadata": {},
   "outputs": [],
   "source": [
    "def read_greentaxi_dataframe(filename):    \n",
    "    df = pd.read_parquet(filename)\n",
    "\n",
    "    df.lpep_pickup_datetime = pd.to_datetime(df.lpep_pickup_datetime)\n",
    "    df.lpep_dropoff_datetime = pd.to_datetime(df.lpep_dropoff_datetime)\n",
    "\n",
    "    df['duration'] = df.lpep_dropoff_datetime - df.lpep_pickup_datetime\n",
    "    df.duration = df.duration.apply(lambda td: td.total_seconds() / 60)\n",
    "\n",
    "    df = df.loc[((df.duration >= 1) & (df.duration <= 60))]\n",
    "    \n",
    "    categorical = ['PULocationID', 'DOLocationID']\n",
    "    df[categorical] = df[categorical].astype(str)\n",
    "    \n",
    "    return df\n"
   ]
  },
  {
   "cell_type": "code",
   "execution_count": 19,
   "id": "776da0b6",
   "metadata": {
    "scrolled": true
   },
   "outputs": [],
   "source": [
    "df_train = read_greentaxi_dataframe('https://d37ci6vzurychx.cloudfront.net/trip-data/green_tripdata_2024-01.parquet')\n",
    "df_val = read_greentaxi_dataframe('https://d37ci6vzurychx.cloudfront.net/trip-data/green_tripdata_2024-02.parquet')"
   ]
  },
  {
   "cell_type": "code",
   "execution_count": 20,
   "id": "4e3fcd57",
   "metadata": {},
   "outputs": [
    {
     "data": {
      "text/plain": [
       "(54373, 51497)"
      ]
     },
     "execution_count": 20,
     "metadata": {},
     "output_type": "execute_result"
    }
   ],
   "source": [
    "len(df_train), len(df_val)"
   ]
  },
  {
   "cell_type": "code",
   "execution_count": 21,
   "id": "2ed4e73a",
   "metadata": {},
   "outputs": [],
   "source": [
    "df_train['PU_DO'] = df_train['PULocationID'] + '_' + df_train['DOLocationID']\n",
    "df_val['PU_DO'] = df_val['PULocationID'] + '_' + df_val['DOLocationID']"
   ]
  },
  {
   "cell_type": "code",
   "execution_count": 22,
   "id": "e0faab48",
   "metadata": {},
   "outputs": [],
   "source": [
    "categorical = ['PU_DO']#'PULocationID', 'DOLocationID']\n",
    "numerical = ['trip_distance']\n",
    "\n",
    "dv = DictVectorizer()\n",
    "\n",
    "train_dicts = df_train[categorical + numerical].to_dict(orient='records')\n",
    "X_train = dv.fit_transform(train_dicts)\n",
    "\n",
    "val_dicts = df_val[categorical + numerical].to_dict(orient='records')\n",
    "X_val = dv.transform(val_dicts)"
   ]
  },
  {
   "cell_type": "code",
   "execution_count": 23,
   "id": "9860012f",
   "metadata": {},
   "outputs": [],
   "source": [
    "target = 'duration'\n",
    "Y_train = df_train[target].values\n",
    "Y_val = df_val[target].values"
   ]
  },
  {
   "cell_type": "code",
   "execution_count": 74,
   "id": "18906be0",
   "metadata": {},
   "outputs": [
    {
     "data": {
      "text/plain": [
       "5.982652114977233"
      ]
     },
     "execution_count": 74,
     "metadata": {},
     "output_type": "execute_result"
    }
   ],
   "source": [
    "lr = LinearRegression()\n",
    "lr.fit(X_train, Y_train)\n",
    "\n",
    "Y_pred = lr.predict(X_val)\n",
    "\n",
    "mean_squared_error(Y_val, Y_pred, squared=False)"
   ]
  },
  {
   "cell_type": "code",
   "execution_count": 78,
   "id": "b2130276",
   "metadata": {},
   "outputs": [],
   "source": [
    "with open('models/lin_reg.bin','wb') as f_out:\n",
    "    pickle.dump((dv, lr), f_out)"
   ]
  },
  {
   "cell_type": "code",
   "execution_count": 26,
   "id": "d05e4e52",
   "metadata": {},
   "outputs": [
    {
     "name": "stderr",
     "output_type": "stream",
     "text": [
      "/home/codespace/anaconda3/envs/exp-tracking-env/lib/python3.9/site-packages/sklearn/metrics/_regression.py:492: FutureWarning: 'squared' is deprecated in version 1.4 and will be removed in 1.6. To calculate the root mean squared error, use the function'root_mean_squared_error'.\n",
      "  warnings.warn(\n"
     ]
    }
   ],
   "source": [
    "with mlflow.start_run():\n",
    "    \n",
    "    mlflow.set_tag(\"developer\",\"Sadat Bin Sharfuddin\")\n",
    "\n",
    "    mlflow.log_param(\"train-data-url\", \"https://d37ci6vzurychx.cloudfront.net/trip-data/green_tripdata_2024-01.parquet\")\n",
    "    mlflow.log_param(\"valid-data-url\", \"https://d37ci6vzurychx.cloudfront.net/trip-data/green_tripdata_2024-02.parquet\")\n",
    "\n",
    "    alpha = 0.001\n",
    "\n",
    "    mlflow.log_param(\"alpha\",alpha)\n",
    "\n",
    "    lr = Lasso(alpha)\n",
    "    lr.fit(X_train, Y_train)\n",
    "\n",
    "    Y_pred = lr.predict(X_val)\n",
    "\n",
    "    rmse = mean_squared_error(Y_val, Y_pred, squared=False)\n",
    "\n",
    "    mlflow.log_metric(\"rmse\",rmse)"
   ]
  },
  {
   "cell_type": "code",
   "execution_count": 76,
   "id": "5a252a1d",
   "metadata": {},
   "outputs": [
    {
     "data": {
      "text/plain": [
       "8.036870485972175"
      ]
     },
     "execution_count": 76,
     "metadata": {},
     "output_type": "execute_result"
    }
   ],
   "source": [
    "lr = Ridge(alpha=0.001)\n",
    "lr.fit(X_train, Y_train)\n",
    "\n",
    "Y_pred = lr.predict(X_val)\n",
    "\n",
    "mean_squared_error(Y_val, Y_pred, squared=False)"
   ]
  },
  {
   "cell_type": "code",
   "execution_count": null,
   "id": "1701615d",
   "metadata": {},
   "outputs": [],
   "source": []
  }
 ],
 "metadata": {
  "kernelspec": {
   "display_name": "Python 3 (ipykernel)",
   "language": "python",
   "name": "python3"
  },
  "language_info": {
   "codemirror_mode": {
    "name": "ipython",
    "version": 3
   },
   "file_extension": ".py",
   "mimetype": "text/x-python",
   "name": "python",
   "nbconvert_exporter": "python",
   "pygments_lexer": "ipython3",
   "version": "3.9.19"
  }
 },
 "nbformat": 4,
 "nbformat_minor": 5
}
